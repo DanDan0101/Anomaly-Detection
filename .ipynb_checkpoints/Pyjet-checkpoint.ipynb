{
 "cells": [
  {
   "cell_type": "code",
   "execution_count": 1,
   "metadata": {},
   "outputs": [],
   "source": [
    "import os\n",
    "import pandas as pd\n",
    "import numpy as np\n",
    "from tqdm import tqdm\n",
    "import matplotlib.pyplot as plt\n",
    "# from pyjet import cluster\n",
    "from pyjet import cluster,DTYPE_PTEPM\n",
    "from pyjet.testdata import get_event\n",
    "import h5py as h5"
   ]
  },
  {
   "cell_type": "code",
   "execution_count": 2,
   "metadata": {},
   "outputs": [
    {
     "name": "stdout",
     "output_type": "stream",
     "text": [
      "<KeysViewHDF5 ['axis0', 'axis1', 'block0_items', 'block0_values']>\n"
     ]
    }
   ],
   "source": [
    "outfile = \"data/events_anomalydetection.h5\"\n",
    "hf = h5.File(outfile, 'r')\n",
    "print(hf[\"df\"].keys())"
   ]
  },
  {
   "cell_type": "code",
   "execution_count": 3,
   "metadata": {},
   "outputs": [],
   "source": [
    "keys = list(hf[\"df\"].keys())\n"
   ]
  },
  {
   "cell_type": "code",
   "execution_count": 4,
   "metadata": {},
   "outputs": [
    {
     "name": "stdout",
     "output_type": "stream",
     "text": [
      "<HDF5 dataset \"axis0\": shape (2101,), type \"<i8\">\n",
      "<HDF5 dataset \"axis1\": shape (1100000,), type \"<i8\">\n",
      "<HDF5 dataset \"block0_items\": shape (2101,), type \"<i8\">\n",
      "<HDF5 dataset \"block0_values\": shape (1100000, 2101), type \"<f8\">\n"
     ]
    }
   ],
   "source": [
    "keys = list(hf[\"df\"].keys())\n",
    "for key in keys:\n",
    "    print(hf[\"df\"][key])"
   ]
  },
  {
   "cell_type": "code",
   "execution_count": 5,
   "metadata": {},
   "outputs": [
    {
     "name": "stdout",
     "output_type": "stream",
     "text": [
      "(10000, 2101)\n",
      "Memory in GB: 0.15661120414733887\n"
     ]
    }
   ],
   "source": [
    "# Only load the first couple events\n",
    "size = 10000\n",
    "\n",
    "df = pd.read_hdf(outfile, \"df\", stop=size)\n",
    "print(df.shape)\n",
    "print(\"Memory in GB:\",sum(df.memory_usage(deep=True)) / (1024**3))"
   ]
  },
  {
   "cell_type": "code",
   "execution_count": 6,
   "metadata": {},
   "outputs": [
    {
     "data": {
      "text/plain": [
       "(10000, 2101)"
      ]
     },
     "execution_count": 6,
     "metadata": {},
     "output_type": "execute_result"
    }
   ],
   "source": [
    "df.shape"
   ]
  },
  {
   "cell_type": "code",
   "execution_count": 7,
   "metadata": {},
   "outputs": [],
   "source": [
    "events_combined = df.T"
   ]
  },
  {
   "cell_type": "code",
   "execution_count": 8,
   "metadata": {},
   "outputs": [
    {
     "data": {
      "text/plain": [
       "(2101, 10000)"
      ]
     },
     "execution_count": 8,
     "metadata": {},
     "output_type": "execute_result"
    }
   ],
   "source": [
    "events_combined.shape"
   ]
  },
  {
   "cell_type": "code",
   "execution_count": 9,
   "metadata": {},
   "outputs": [
    {
     "name": "stderr",
     "output_type": "stream",
     "text": [
      "100%|██████████| 10000/10000 [00:52<00:00, 190.85it/s]\n",
      "100%|██████████| 10000/10000 [00:04<00:00, 2410.08it/s]\n"
     ]
    }
   ],
   "source": [
    "leadpT = {}\n",
    "leadeta = {}\n",
    "leadphi = {}\n",
    "leadmass = {}\n",
    "\n",
    "subleadpT = {}\n",
    "subleadeta = {}\n",
    "subleadphi = {}\n",
    "subleadmass = {}\n",
    "\n",
    "alljets = {}\n",
    "N = size # number of events\n",
    "\n",
    "for mytype in ['background','signal']:\n",
    "    leadpT[mytype]=[]\n",
    "    leadeta[mytype]=[]\n",
    "    leadphi[mytype]=[]\n",
    "    leadmass[mytype]=[]\n",
    "    \n",
    "    subleadpT[mytype]=[]\n",
    "    subleadeta[mytype]=[]\n",
    "    subleadphi[mytype]=[]\n",
    "    subleadmass[mytype]=[]\n",
    "    \n",
    "    alljets[mytype]=[]\n",
    "\n",
    "    for i in tqdm(range(N)):\n",
    "        issignal = events_combined[i][2100] # signal flag\n",
    "        if (mytype=='background' and issignal):\n",
    "            continue\n",
    "        elif (mytype=='signal' and issignal==0):\n",
    "             continue\n",
    "        pseudojets_input = np.zeros(len([x for x in events_combined[i][::3] if x > 0]), dtype=DTYPE_PTEPM) # nontrivial particles in event i\n",
    "        for j in range(700):\n",
    "            if (events_combined[i][j*3]>0):\n",
    "                pseudojets_input[j]['pT'] = events_combined[i][j*3]\n",
    "                pseudojets_input[j]['eta'] = events_combined[i][j*3+1]\n",
    "                pseudojets_input[j]['phi'] = events_combined[i][j*3+2]\n",
    "            else:\n",
    "                break\n",
    "\n",
    "        sequence = cluster(pseudojets_input, R=1.0, p=-1) # anti-kT\n",
    "        jets = sequence.inclusive_jets(ptmin=1200)\n",
    "        \n",
    "        if len(jets) > 1:\n",
    "            leadpT[mytype] += [jets[0].pt]\n",
    "            leadeta[mytype] += [jets[0].eta]\n",
    "            leadphi[mytype] += [jets[0].phi]\n",
    "            leadmass[mytype] += [jets[0].mass]\n",
    "            subleadpT[mytype] += [jets[1].pt]\n",
    "            subleadeta[mytype] += [jets[1].eta]\n",
    "            subleadphi[mytype] += [jets[1].phi]\n",
    "            subleadmass[mytype] += [jets[1].mass]\n",
    "            alljets[mytype] += [jets]\n",
    "        pass"
   ]
  },
  {
   "cell_type": "code",
   "execution_count": 10,
   "metadata": {},
   "outputs": [],
   "source": [
    "bg_lead = np.array([leadpT['background'],leadeta['background'],leadphi['background'],leadmass['background']])\n",
    "bg_sublead = np.array([subleadpT['background'],subleadeta['background'],subleadphi['background'],subleadmass['background']])\n",
    "signal_lead = np.array([leadpT['signal'],leadeta['signal'],leadphi['signal'],leadmass['signal']])\n",
    "signal_sublead = np.array([subleadpT['signal'],subleadeta['signal'],subleadphi['signal'],subleadmass['signal']])\n"
   ]
  },
  {
   "cell_type": "code",
   "execution_count": 11,
   "metadata": {},
   "outputs": [
    {
     "name": "stdout",
     "output_type": "stream",
     "text": [
      "(4, 5647)\n",
      "(4, 5647)\n",
      "(4, 818)\n",
      "(4, 818)\n"
     ]
    }
   ],
   "source": [
    "print(bg_lead.shape)\n",
    "print(bg_sublead.shape)\n",
    "print(signal_lead.shape)\n",
    "print(signal_sublead.shape)"
   ]
  },
  {
   "cell_type": "code",
   "execution_count": 12,
   "metadata": {},
   "outputs": [],
   "source": [
    "m1 = signal_lead[3,:]\n",
    "m2 = signal_sublead[3,:]"
   ]
  },
  {
   "cell_type": "code",
   "execution_count": 13,
   "metadata": {},
   "outputs": [],
   "source": [
    "pt1 = signal_lead[0,:]\n",
    "pt2 = signal_sublead[0,:]\n",
    "eta1 = signal_lead[1,:]\n",
    "eta2 = signal_sublead[1,:]"
   ]
  },
  {
   "cell_type": "code",
   "execution_count": 14,
   "metadata": {},
   "outputs": [],
   "source": [
    "E1 = np.sqrt(m1**2 + (pt1**2) * (np.cosh(eta1)**2))\n",
    "E2 = np.sqrt(m2**2 + (pt2**2) * (np.cosh(eta2)**2))"
   ]
  },
  {
   "cell_type": "code",
   "execution_count": 18,
   "metadata": {},
   "outputs": [],
   "source": [
    "# Calculate W' properties\n",
    "\n",
    "E = E1 + E2\n",
    "\n",
    "def add_momenta(p1, p2):\n",
    "    px = p1[0,:] * np.cos(p1[2,:]) + p2[0,:] * np.cos(p2[2,:])\n",
    "    py = p1[0,:] * np.sin(p1[2,:]) + p2[0,:] * np.sin(p2[2,:])\n",
    "    pz = p1[0,:] * np.sinh(p1[1,:]) + p2[0,:] * np.sinh(p2[1,:])\n",
    "    pE = np.sqrt(p1[3,:] ** 2 + (p1[0,:] ** 2) * (np.cosh(p1[1,:]) ** 2)) + np.sqrt(p2[3,:] ** 2 + (p2[0,:] ** 2) * (np.cosh(p2[1,:]) ** 2))\n",
    "    pT = np.sqrt(px**2 + py**2)\n",
    "    eta = np.arcsinh(pz / pT)\n",
    "    phi = np.arctan2(py, px)\n",
    "    m = np.sqrt(pE ** 2 - (pT * np.cosh(eta)) ** 2)\n",
    "    return np.stack((pT, eta, phi, m))\n",
    "\n",
    "p = add_momenta(signal_lead, signal_sublead)\n",
    "m = p[3,:]"
   ]
  },
  {
   "cell_type": "code",
   "execution_count": 19,
   "metadata": {},
   "outputs": [
    {
     "data": {
      "image/png": "[encoded data removed]",
      "text/plain": [
       "<Figure size 432x288 with 1 Axes>"
      ]
     },
     "metadata": {
      "needs_background": "light"
     },
     "output_type": "display_data"
    }
   ],
   "source": [
    "plt.title(\"Mass of leading + subleading jet\")\n",
    "plt.xlabel(\"Mass of reconstructed W' (GeV)\")\n",
    "plt.ylabel(\"Probability (a.u.)\")\n",
    "plt.hist(m, bins = \"auto\", histtype = \"step\")\n",
    "plt.show()"
   ]
  },
  {
   "cell_type": "code",
   "execution_count": 20,
   "metadata": {},
   "outputs": [
    {
     "data": {
      "image/png": "[encoded data removed]",
      "text/plain": [
       "<Figure size 432x288 with 1 Axes>"
      ]
     },
     "metadata": {
      "needs_background": "light"
     },
     "output_type": "display_data"
    }
   ],
   "source": [
    "plt.title(\"Energy of leading + subleading jet\")\n",
    "plt.xlabel(\"Energy of reconstructed W' (GeV)\")\n",
    "plt.ylabel(\"Probability (a.u.)\")\n",
    "plt.hist(E, bins = \"auto\", histtype = \"step\")\n",
    "plt.show()"
   ]
  },
  {
   "cell_type": "code",
   "execution_count": 21,
   "metadata": {},
   "outputs": [
    {
     "data": {
      "image/png": "[encoded data removed]",
      "text/plain": [
       "<Figure size 432x288 with 2 Axes>"
      ]
     },
     "metadata": {
      "needs_background": "light"
     },
     "output_type": "display_data"
    }
   ],
   "source": [
    "plt.title(\"Mass of leading vs. subleading jet\")\n",
    "plt.xlabel(\"Leading jet mass (GeV)\")\n",
    "plt.ylabel(\"Subleading jet mass (GeV)\")\n",
    "plt.hist2d(m1, m2, bins=20, cmap=\"BuPu\")\n",
    "plt.colorbar()\n",
    "plt.show()"
   ]
  },
  {
   "cell_type": "code",
   "execution_count": 22,
   "metadata": {},
   "outputs": [
    {
     "data": {
      "image/png": "[encoded data removed]",
      "text/plain": [
       "<Figure size 432x288 with 2 Axes>"
      ]
     },
     "metadata": {
      "needs_background": "light"
     },
     "output_type": "display_data"
    }
   ],
   "source": [
    "plt.title(\"Energy of leading vs. subleading jet\")\n",
    "plt.xlabel(\"Leading jet energy (GeV)\")\n",
    "plt.ylabel(\"Subleading jet energy (GeV)\")\n",
    "plt.hist2d(E1, E2, bins=20, cmap=\"BuPu\")\n",
    "plt.colorbar()\n",
    "plt.show()"
   ]
  },
  {
   "cell_type": "code",
   "execution_count": null,
   "metadata": {},
   "outputs": [],
   "source": []
  }
 ],
 "metadata": {
  "kernelspec": {
   "display_name": "Python 3",
   "language": "python",
   "name": "python3"
  },
  "language_info": {
   "codemirror_mode": {
    "name": "ipython",
    "version": 3
   },
   "file_extension": ".py",
   "mimetype": "text/x-python",
   "name": "python",
   "nbconvert_exporter": "python",
   "pygments_lexer": "ipython3",
   "version": "3.7.9"
  }
 },
 "nbformat": 4,
 "nbformat_minor": 4
}
