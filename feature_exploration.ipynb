{
 "metadata": {
  "language_info": {
   "codemirror_mode": {
    "name": "ipython",
    "version": 3
   },
   "file_extension": ".py",
   "mimetype": "text/x-python",
   "name": "python",
   "nbconvert_exporter": "python",
   "pygments_lexer": "ipython3",
   "version": "3.6.10-final"
  },
  "orig_nbformat": 2,
  "kernelspec": {
   "name": "python3",
   "display_name": "Python 3"
  }
 },
 "nbformat": 4,
 "nbformat_minor": 2,
 "cells": [
  {
   "cell_type": "code",
   "execution_count": 12,
   "metadata": {},
   "outputs": [],
   "source": [
    "import numpy as np\n",
    "import matplotlib.pyplot as plt\n",
    "import pandas"
   ]
  },
  {
   "cell_type": "code",
   "execution_count": 13,
   "metadata": {},
   "outputs": [],
   "source": [
    "# path to file\n",
    "fn = 'events_anomalydetection'"
   ]
  },
  {
   "cell_type": "code",
   "execution_count": 14,
   "metadata": {},
   "outputs": [
    {
     "output_type": "stream",
     "name": "stdout",
     "text": [
      "(100000, 2101)\n",
      "Memory in GB: 1.5661120414733887\n"
     ]
    }
   ],
   "source": [
    "# Only load the first couple events for feature exploration\n",
    "df = pandas.read_hdf('data/' + fn + '.h5',stop=100000)\n",
    "print(df.shape)\n",
    "print(\"Memory in GB:\",sum(df.memory_usage(deep=True)) / (1024**3))"
   ]
  },
  {
   "cell_type": "code",
   "execution_count": 15,
   "metadata": {},
   "outputs": [],
   "source": [
    "# Separate background and signal; discard flag column\n",
    "df_bg = df[df[2100] == 0.0].iloc[:,:-1]\n",
    "df_s = df[df[2100] == 1.0].iloc[:,:-1]\n",
    "df = df.iloc[:,:-1]"
   ]
  },
  {
   "cell_type": "code",
   "execution_count": 16,
   "metadata": {},
   "outputs": [
    {
     "output_type": "stream",
     "name": "stdout",
     "text": [
      "Background shape: (90941, 2100)\nSignal shape: (9059, 2100)\nPercent of signal in data: 9.059000000000001%\n"
     ]
    }
   ],
   "source": [
    "print(\"Background shape: \" + str(df_bg.shape))\n",
    "print(\"Signal shape: \" + str(df_s.shape))\n",
    "print(\"Percent of signal in data: \" + str(df_s.shape[0] / df.shape[0] * 100) + \"%\")"
   ]
  },
  {
   "cell_type": "code",
   "execution_count": 17,
   "metadata": {},
   "outputs": [],
   "source": [
    "# Isolate pT, eta, and phi\n",
    "\n",
    "df_pt = df.iloc[:,::3].to_numpy()\n",
    "df_eta = df.iloc[:,1::3].to_numpy()\n",
    "df_phi = df.iloc[:,2::3].to_numpy()\n",
    "\n",
    "df_bg_pt = df_bg.iloc[:,::3].to_numpy()\n",
    "df_bg_eta = df_bg.iloc[:,1::3].to_numpy()\n",
    "df_bg_phi = df_bg.iloc[:,2::3].to_numpy()\n",
    "\n",
    "df_s_pt = df_s.iloc[:,::3].to_numpy()\n",
    "df_s_eta = df_s.iloc[:,1::3].to_numpy()\n",
    "df_s_phi = df_s.iloc[:,2::3].to_numpy()"
   ]
  },
  {
   "cell_type": "code",
   "execution_count": 18,
   "metadata": {},
   "outputs": [],
   "source": [
    "# Compute constitutent cartesian four-momenta\n",
    "\n",
    "df_px = df_pt * np.cos(df_phi)\n",
    "df_py = df_pt * np.sin(df_phi)\n",
    "df_pz = df_pt * np.sinh(df_eta)\n",
    "df_E = np.sqrt(df_px**2 + df_py**2 + df_pz**2)\n",
    "\n",
    "df_bg_px = df_bg_pt * np.cos(df_bg_phi)\n",
    "df_bg_py = df_bg_pt * np.sin(df_bg_phi)\n",
    "df_bg_pz = df_bg_pt * np.sinh(df_bg_eta)\n",
    "df_bg_E = np.sqrt(df_bg_px**2 + df_bg_py**2 + df_bg_pz**2)\n",
    "\n",
    "df_s_px = df_s_pt * np.cos(df_s_phi)\n",
    "df_s_py = df_s_pt * np.sin(df_s_phi)\n",
    "df_s_pz = df_s_pt * np.sinh(df_s_eta)\n",
    "df_s_E = np.sqrt(df_s_px**2 + df_s_py**2 + df_s_pz**2)"
   ]
  },
  {
   "cell_type": "code",
   "execution_count": 19,
   "metadata": {},
   "outputs": [],
   "source": [
    "# Compute jet cartesian four-momenta and mass\n",
    "\n",
    "j_px = df_px.sum(axis = 1)\n",
    "j_py = df_py.sum(axis = 1)\n",
    "j_pz = df_pz.sum(axis = 1)\n",
    "j_E = df_E.sum(axis = 1)\n",
    "j_p = np.sqrt(j_px**2 + j_py**2 + j_pz**2)\n",
    "j_m = np.sqrt(j_E**2 - j_p**2)\n",
    "\n",
    "j_bg_px = df_bg_px.sum(axis = 1)\n",
    "j_bg_py = df_bg_py.sum(axis = 1)\n",
    "j_bg_pz = df_bg_pz.sum(axis = 1)\n",
    "j_bg_E = df_bg_E.sum(axis = 1)\n",
    "j_bg_p = np.sqrt(j_bg_px**2 + j_bg_py**2 + j_bg_pz**2)\n",
    "j_bg_m = np.sqrt(j_bg_E**2 - j_bg_p**2)\n",
    "\n",
    "j_s_px = df_s_px.sum(axis = 1)\n",
    "j_s_py = df_s_py.sum(axis = 1)\n",
    "j_s_pz = df_s_pz.sum(axis = 1)\n",
    "j_s_E = df_s_E.sum(axis = 1)\n",
    "j_s_p = np.sqrt(j_s_px**2 + j_s_py**2 + j_s_pz**2)\n",
    "j_s_m = np.sqrt(j_s_E**2 - j_s_p**2)"
   ]
  },
  {
   "cell_type": "code",
   "execution_count": 20,
   "metadata": {},
   "outputs": [],
   "source": [
    "# Compute jet pT, eta, and phi\n",
    "\n",
    "j_pt = np.sqrt(j_px ** 2 + j_py ** 2)\n",
    "j_phi = np.arctan2(j_py, j_px)\n",
    "j_eta = np.arcsinh(j_pz / j_pt)\n",
    "\n",
    "j_bg_pt = np.sqrt(j_bg_px ** 2 + j_bg_py ** 2)\n",
    "j_bg_phi = np.arctan2(j_bg_py, j_bg_px)\n",
    "j_bg_eta = np.arcsinh(j_bg_pz / j_bg_pt)\n",
    "\n",
    "j_s_pt = np.sqrt(j_s_px ** 2 + j_s_py ** 2)\n",
    "j_s_phi = np.arctan2(j_s_py, j_s_px)\n",
    "j_s_eta = np.arcsinh(j_s_pz / j_s_pt)"
   ]
  },
  {
   "cell_type": "code",
   "execution_count": 21,
   "metadata": {},
   "outputs": [],
   "source": [
    "def makeplot(main, bg, s, title, xaxis, r = None):\n",
    "    bg = bg.flatten()\n",
    "    bg = bg[bg != 0]\n",
    "\n",
    "    s = s.flatten()\n",
    "    s = s[s != 0]\n",
    "\n",
    "    plt.title(title)\n",
    "    plt.xlabel(xaxis)\n",
    "    plt.ylabel(\"Prob. Density (a.u.)\")\n",
    "\n",
    "    bins = np.histogram_bin_edges(main, bins = 'auto')\n",
    "\n",
    "    if r is None:\n",
    "        r = (main.min(), main.max())\n",
    "\n",
    "    plt.hist(bg, bins = len(bins) - 1, range = r, histtype = \"step\", color = \"tab:green\", label = \"background\", density = True)\n",
    "    plt.hist(s, bins = len(bins) - 1, range = r, histtype = \"step\", color = \"tab:red\", label = \"signal\", density = True)\n",
    "    plt.legend()\n",
    "    plt.savefig(\"features/\" + fn + \"/\" + title + \".png\", transparent = True)\n",
    "    plt.show()\n",
    "    plt.clf()"
   ]
  },
  {
   "cell_type": "code",
   "execution_count": null,
   "metadata": {},
   "outputs": [],
   "source": [
    "makeplot(df_pt, df_bg_pt, df_s_pt, \"Constituent transverse momentum\", \"j1_pt\")\n",
    "makeplot(df_eta, df_bg_eta, df_s_eta, \"Constituent pseudorapidity\", \"j1_eta\")\n",
    "makeplot(df_phi, df_bg_phi, df_s_phi, \"Constituent azimuthal angle\", \"j1_phi\")\n",
    "\n",
    "makeplot(j_pt, j_bg_pt, j_s_pt, \"Jet transverse momentum\", \"j_pt\")\n",
    "makeplot(j_eta, j_bg_eta, j_s_eta, \"Jet pseudorapidity\", \"j_eta\")\n",
    "makeplot(j_phi, j_bg_phi, j_s_phi, \"Jet azimuthal angle\", \"j_phi\")\n",
    "\n",
    "makeplot(j_E, j_bg_E, j_s_E, \"Jet energy\", \"j_E\")\n",
    "makeplot(j_p, j_bg_p, j_s_p, \"Jet linear momentum\", \"j_p\")\n",
    "makeplot(j_m, j_bg_m, j_s_m, \"Jet mass\", \"j_m\")"
   ]
  },
  {
   "cell_type": "code",
   "execution_count": null,
   "metadata": {},
   "outputs": [],
   "source": []
  }
 ]
}