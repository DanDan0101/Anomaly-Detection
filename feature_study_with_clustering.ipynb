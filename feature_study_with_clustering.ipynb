{
 "cells": [
  {
   "cell_type": "code",
   "execution_count": 1,
   "metadata": {},
   "outputs": [],
   "source": [
    "import os\n",
    "import pandas as pd\n",
    "import numpy as np\n",
    "from tqdm import tqdm\n",
    "import matplotlib.pyplot as plt\n",
    "# from pyjet import cluster\n",
    "from pyjet import cluster,DTYPE_PTEPM\n",
    "from pyjet.testdata import get_event\n",
    "import h5py as h5"
   ]
  },
  {
   "cell_type": "code",
   "execution_count": 3,
   "metadata": {},
   "outputs": [
    {
     "name": "stdout",
     "output_type": "stream",
     "text": [
      "<KeysViewHDF5 ['axis0', 'axis1', 'block0_items', 'block0_values']>\n"
     ]
    }
   ],
   "source": [
    "outfile = \"small_data/small_events_anomalydetection_0.h5\"\n",
    "hf = h5.File(outfile, 'r')\n",
    "print(hf[\"data\"].keys())"
   ]
  },
  {
   "cell_type": "code",
   "execution_count": 5,
   "metadata": {},
   "outputs": [],
   "source": [
    "keys = list(hf[\"data\"].keys())\n"
   ]
  },
  {
   "cell_type": "code",
   "execution_count": 7,
   "metadata": {},
   "outputs": [
    {
     "name": "stdout",
     "output_type": "stream",
     "text": [
      "<HDF5 dataset \"axis0\": shape (2101,), type \"<i8\">\n",
      "<HDF5 dataset \"axis1\": shape (110000,), type \"<i8\">\n",
      "<HDF5 dataset \"block0_items\": shape (2101,), type \"<i8\">\n",
      "<HDF5 dataset \"block0_values\": shape (110000, 2101), type \"<f8\">\n"
     ]
    }
   ],
   "source": [
    "keys = list(hf[\"data\"].keys())\n",
    "for key in keys:\n",
    "    print(hf[\"data\"][key])"
   ]
  },
  {
   "cell_type": "code",
   "execution_count": 15,
   "metadata": {},
   "outputs": [
    {
     "name": "stdout",
     "output_type": "stream",
     "text": [
      "(10000, 2101)\n",
      "Memory in GB: 0.15661120414733887\n"
     ]
    }
   ],
   "source": [
    "# Only load the first couple events\n",
    "size = 10000\n",
    "df = pd.read_hdf(outfile, \"data\", stop=size)\n",
    "print(df.shape)\n",
    "print(\"Memory in GB:\",sum(df.memory_usage(deep=True)) / (1024**3))"
   ]
  },
  {
   "cell_type": "code",
   "execution_count": 16,
   "metadata": {},
   "outputs": [
    {
     "data": {
      "text/plain": [
       "(10000, 2101)"
      ]
     },
     "execution_count": 16,
     "metadata": {},
     "output_type": "execute_result"
    }
   ],
   "source": [
    "df.shape"
   ]
  },
  {
   "cell_type": "code",
   "execution_count": 127,
   "metadata": {},
   "outputs": [
    {
     "data": {
      "text/html": [
       "<div>\n",
       "<style scoped>\n",
       "    .dataframe tbody tr th:only-of-type {\n",
       "        vertical-align: middle;\n",
       "    }\n",
       "\n",
       "    .dataframe tbody tr th {\n",
       "        vertical-align: top;\n",
       "    }\n",
       "\n",
       "    .dataframe thead th {\n",
       "        text-align: right;\n",
       "    }\n",
       "</style>\n",
       "<table border=\"1\" class=\"dataframe\">\n",
       "  <thead>\n",
       "    <tr style=\"text-align: right;\">\n",
       "      <th></th>\n",
       "      <th>0</th>\n",
       "      <th>1</th>\n",
       "      <th>2</th>\n",
       "      <th>3</th>\n",
       "      <th>4</th>\n",
       "      <th>5</th>\n",
       "      <th>6</th>\n",
       "      <th>7</th>\n",
       "      <th>8</th>\n",
       "      <th>9</th>\n",
       "      <th>...</th>\n",
       "      <th>2091</th>\n",
       "      <th>2092</th>\n",
       "      <th>2093</th>\n",
       "      <th>2094</th>\n",
       "      <th>2095</th>\n",
       "      <th>2096</th>\n",
       "      <th>2097</th>\n",
       "      <th>2098</th>\n",
       "      <th>2099</th>\n",
       "      <th>2100</th>\n",
       "    </tr>\n",
       "  </thead>\n",
       "  <tbody>\n",
       "    <tr>\n",
       "      <th>0</th>\n",
       "      <td>0.324101</td>\n",
       "      <td>-0.361158</td>\n",
       "      <td>2.737669</td>\n",
       "      <td>0.409859</td>\n",
       "      <td>-2.429939</td>\n",
       "      <td>0.729830</td>\n",
       "      <td>0.867922</td>\n",
       "      <td>-2.267777</td>\n",
       "      <td>-1.161310</td>\n",
       "      <td>0.383031</td>\n",
       "      <td>...</td>\n",
       "      <td>0.0</td>\n",
       "      <td>0.0</td>\n",
       "      <td>0.0</td>\n",
       "      <td>0.0</td>\n",
       "      <td>0.0</td>\n",
       "      <td>0.0</td>\n",
       "      <td>0.0</td>\n",
       "      <td>0.0</td>\n",
       "      <td>0.0</td>\n",
       "      <td>0.0</td>\n",
       "    </tr>\n",
       "    <tr>\n",
       "      <th>1</th>\n",
       "      <td>0.646304</td>\n",
       "      <td>-0.539460</td>\n",
       "      <td>-1.386258</td>\n",
       "      <td>0.471293</td>\n",
       "      <td>-1.636572</td>\n",
       "      <td>0.751657</td>\n",
       "      <td>0.453769</td>\n",
       "      <td>-1.099593</td>\n",
       "      <td>-0.393405</td>\n",
       "      <td>0.485929</td>\n",
       "      <td>...</td>\n",
       "      <td>0.0</td>\n",
       "      <td>0.0</td>\n",
       "      <td>0.0</td>\n",
       "      <td>0.0</td>\n",
       "      <td>0.0</td>\n",
       "      <td>0.0</td>\n",
       "      <td>0.0</td>\n",
       "      <td>0.0</td>\n",
       "      <td>0.0</td>\n",
       "      <td>0.0</td>\n",
       "    </tr>\n",
       "    <tr>\n",
       "      <th>2</th>\n",
       "      <td>0.325172</td>\n",
       "      <td>-0.833948</td>\n",
       "      <td>2.404844</td>\n",
       "      <td>1.295058</td>\n",
       "      <td>-2.089618</td>\n",
       "      <td>-1.873342</td>\n",
       "      <td>0.451272</td>\n",
       "      <td>-0.101877</td>\n",
       "      <td>2.217348</td>\n",
       "      <td>0.461293</td>\n",
       "      <td>...</td>\n",
       "      <td>0.0</td>\n",
       "      <td>0.0</td>\n",
       "      <td>0.0</td>\n",
       "      <td>0.0</td>\n",
       "      <td>0.0</td>\n",
       "      <td>0.0</td>\n",
       "      <td>0.0</td>\n",
       "      <td>0.0</td>\n",
       "      <td>0.0</td>\n",
       "      <td>0.0</td>\n",
       "    </tr>\n",
       "    <tr>\n",
       "      <th>3</th>\n",
       "      <td>0.290918</td>\n",
       "      <td>-2.200063</td>\n",
       "      <td>1.630132</td>\n",
       "      <td>0.565028</td>\n",
       "      <td>-1.714345</td>\n",
       "      <td>-2.617103</td>\n",
       "      <td>0.951042</td>\n",
       "      <td>-0.532720</td>\n",
       "      <td>2.941473</td>\n",
       "      <td>0.896248</td>\n",
       "      <td>...</td>\n",
       "      <td>0.0</td>\n",
       "      <td>0.0</td>\n",
       "      <td>0.0</td>\n",
       "      <td>0.0</td>\n",
       "      <td>0.0</td>\n",
       "      <td>0.0</td>\n",
       "      <td>0.0</td>\n",
       "      <td>0.0</td>\n",
       "      <td>0.0</td>\n",
       "      <td>0.0</td>\n",
       "    </tr>\n",
       "    <tr>\n",
       "      <th>4</th>\n",
       "      <td>0.526330</td>\n",
       "      <td>-2.349110</td>\n",
       "      <td>-1.745532</td>\n",
       "      <td>0.542491</td>\n",
       "      <td>-2.080352</td>\n",
       "      <td>-3.044045</td>\n",
       "      <td>0.390727</td>\n",
       "      <td>-1.278563</td>\n",
       "      <td>-2.131058</td>\n",
       "      <td>2.530358</td>\n",
       "      <td>...</td>\n",
       "      <td>0.0</td>\n",
       "      <td>0.0</td>\n",
       "      <td>0.0</td>\n",
       "      <td>0.0</td>\n",
       "      <td>0.0</td>\n",
       "      <td>0.0</td>\n",
       "      <td>0.0</td>\n",
       "      <td>0.0</td>\n",
       "      <td>0.0</td>\n",
       "      <td>1.0</td>\n",
       "    </tr>\n",
       "  </tbody>\n",
       "</table>\n",
       "<p>5 rows × 2101 columns</p>\n",
       "</div>"
      ],
      "text/plain": [
       "       0         1         2         3         4         5         6     \\\n",
       "0  0.324101 -0.361158  2.737669  0.409859 -2.429939  0.729830  0.867922   \n",
       "1  0.646304 -0.539460 -1.386258  0.471293 -1.636572  0.751657  0.453769   \n",
       "2  0.325172 -0.833948  2.404844  1.295058 -2.089618 -1.873342  0.451272   \n",
       "3  0.290918 -2.200063  1.630132  0.565028 -1.714345 -2.617103  0.951042   \n",
       "4  0.526330 -2.349110 -1.745532  0.542491 -2.080352 -3.044045  0.390727   \n",
       "\n",
       "       7         8         9     ...  2091  2092  2093  2094  2095  2096  \\\n",
       "0 -2.267777 -1.161310  0.383031  ...   0.0   0.0   0.0   0.0   0.0   0.0   \n",
       "1 -1.099593 -0.393405  0.485929  ...   0.0   0.0   0.0   0.0   0.0   0.0   \n",
       "2 -0.101877  2.217348  0.461293  ...   0.0   0.0   0.0   0.0   0.0   0.0   \n",
       "3 -0.532720  2.941473  0.896248  ...   0.0   0.0   0.0   0.0   0.0   0.0   \n",
       "4 -1.278563 -2.131058  2.530358  ...   0.0   0.0   0.0   0.0   0.0   0.0   \n",
       "\n",
       "   2097  2098  2099  2100  \n",
       "0   0.0   0.0   0.0   0.0  \n",
       "1   0.0   0.0   0.0   0.0  \n",
       "2   0.0   0.0   0.0   0.0  \n",
       "3   0.0   0.0   0.0   0.0  \n",
       "4   0.0   0.0   0.0   1.0  \n",
       "\n",
       "[5 rows x 2101 columns]"
      ]
     },
     "execution_count": 127,
     "metadata": {},
     "output_type": "execute_result"
    }
   ],
   "source": [
    "df.head()"
   ]
  },
  {
   "cell_type": "code",
   "execution_count": 17,
   "metadata": {},
   "outputs": [],
   "source": [
    "events_combined = df.T"
   ]
  },
  {
   "cell_type": "code",
   "execution_count": 128,
   "metadata": {},
   "outputs": [
    {
     "data": {
      "text/html": [
       "<div>\n",
       "<style scoped>\n",
       "    .dataframe tbody tr th:only-of-type {\n",
       "        vertical-align: middle;\n",
       "    }\n",
       "\n",
       "    .dataframe tbody tr th {\n",
       "        vertical-align: top;\n",
       "    }\n",
       "\n",
       "    .dataframe thead th {\n",
       "        text-align: right;\n",
       "    }\n",
       "</style>\n",
       "<table border=\"1\" class=\"dataframe\">\n",
       "  <thead>\n",
       "    <tr style=\"text-align: right;\">\n",
       "      <th></th>\n",
       "      <th>0</th>\n",
       "      <th>1</th>\n",
       "      <th>2</th>\n",
       "      <th>3</th>\n",
       "      <th>4</th>\n",
       "      <th>5</th>\n",
       "      <th>6</th>\n",
       "      <th>7</th>\n",
       "      <th>8</th>\n",
       "      <th>9</th>\n",
       "      <th>...</th>\n",
       "      <th>9990</th>\n",
       "      <th>9991</th>\n",
       "      <th>9992</th>\n",
       "      <th>9993</th>\n",
       "      <th>9994</th>\n",
       "      <th>9995</th>\n",
       "      <th>9996</th>\n",
       "      <th>9997</th>\n",
       "      <th>9998</th>\n",
       "      <th>9999</th>\n",
       "    </tr>\n",
       "  </thead>\n",
       "  <tbody>\n",
       "    <tr>\n",
       "      <th>0</th>\n",
       "      <td>0.324101</td>\n",
       "      <td>0.646304</td>\n",
       "      <td>0.325172</td>\n",
       "      <td>0.290918</td>\n",
       "      <td>0.526330</td>\n",
       "      <td>0.307490</td>\n",
       "      <td>0.305228</td>\n",
       "      <td>0.550740</td>\n",
       "      <td>0.823849</td>\n",
       "      <td>0.361629</td>\n",
       "      <td>...</td>\n",
       "      <td>22.549061</td>\n",
       "      <td>0.467982</td>\n",
       "      <td>4.432257</td>\n",
       "      <td>0.487591</td>\n",
       "      <td>1.198400</td>\n",
       "      <td>0.256487</td>\n",
       "      <td>0.319303</td>\n",
       "      <td>0.552500</td>\n",
       "      <td>0.338862</td>\n",
       "      <td>0.626047</td>\n",
       "    </tr>\n",
       "    <tr>\n",
       "      <th>1</th>\n",
       "      <td>-0.361158</td>\n",
       "      <td>-0.539460</td>\n",
       "      <td>-0.833948</td>\n",
       "      <td>-2.200063</td>\n",
       "      <td>-2.349110</td>\n",
       "      <td>-1.999438</td>\n",
       "      <td>-1.949587</td>\n",
       "      <td>-1.799677</td>\n",
       "      <td>-2.409386</td>\n",
       "      <td>-1.561485</td>\n",
       "      <td>...</td>\n",
       "      <td>-0.525972</td>\n",
       "      <td>-1.993226</td>\n",
       "      <td>-2.325274</td>\n",
       "      <td>-2.307305</td>\n",
       "      <td>-2.155422</td>\n",
       "      <td>-1.719700</td>\n",
       "      <td>-0.770895</td>\n",
       "      <td>-0.881639</td>\n",
       "      <td>-0.868035</td>\n",
       "      <td>-1.238908</td>\n",
       "    </tr>\n",
       "    <tr>\n",
       "      <th>2</th>\n",
       "      <td>2.737669</td>\n",
       "      <td>-1.386258</td>\n",
       "      <td>2.404844</td>\n",
       "      <td>1.630132</td>\n",
       "      <td>-1.745532</td>\n",
       "      <td>2.590663</td>\n",
       "      <td>-2.294166</td>\n",
       "      <td>-3.037725</td>\n",
       "      <td>0.120901</td>\n",
       "      <td>2.277365</td>\n",
       "      <td>...</td>\n",
       "      <td>-2.083035</td>\n",
       "      <td>-0.242534</td>\n",
       "      <td>-2.555464</td>\n",
       "      <td>-0.740001</td>\n",
       "      <td>-1.551230</td>\n",
       "      <td>-0.833353</td>\n",
       "      <td>3.106929</td>\n",
       "      <td>2.820565</td>\n",
       "      <td>2.984343</td>\n",
       "      <td>0.505947</td>\n",
       "    </tr>\n",
       "    <tr>\n",
       "      <th>3</th>\n",
       "      <td>0.409859</td>\n",
       "      <td>0.471293</td>\n",
       "      <td>1.295058</td>\n",
       "      <td>0.565028</td>\n",
       "      <td>0.542491</td>\n",
       "      <td>0.296564</td>\n",
       "      <td>0.611917</td>\n",
       "      <td>0.497987</td>\n",
       "      <td>0.392440</td>\n",
       "      <td>1.756224</td>\n",
       "      <td>...</td>\n",
       "      <td>6.464812</td>\n",
       "      <td>0.439723</td>\n",
       "      <td>0.326687</td>\n",
       "      <td>2.520947</td>\n",
       "      <td>0.437137</td>\n",
       "      <td>0.874030</td>\n",
       "      <td>0.395848</td>\n",
       "      <td>0.437082</td>\n",
       "      <td>0.661918</td>\n",
       "      <td>0.414505</td>\n",
       "    </tr>\n",
       "    <tr>\n",
       "      <th>4</th>\n",
       "      <td>-2.429939</td>\n",
       "      <td>-1.636572</td>\n",
       "      <td>-2.089618</td>\n",
       "      <td>-1.714345</td>\n",
       "      <td>-2.080352</td>\n",
       "      <td>-2.257138</td>\n",
       "      <td>-1.139748</td>\n",
       "      <td>-2.165318</td>\n",
       "      <td>-1.953236</td>\n",
       "      <td>-0.967060</td>\n",
       "      <td>...</td>\n",
       "      <td>-0.523991</td>\n",
       "      <td>-1.169341</td>\n",
       "      <td>-0.661042</td>\n",
       "      <td>-2.320902</td>\n",
       "      <td>-2.142012</td>\n",
       "      <td>-1.453976</td>\n",
       "      <td>-0.760495</td>\n",
       "      <td>-2.356772</td>\n",
       "      <td>-0.647047</td>\n",
       "      <td>-0.594919</td>\n",
       "    </tr>\n",
       "  </tbody>\n",
       "</table>\n",
       "<p>5 rows × 10000 columns</p>\n",
       "</div>"
      ],
      "text/plain": [
       "       0         1         2         3         4         5         6     \\\n",
       "0  0.324101  0.646304  0.325172  0.290918  0.526330  0.307490  0.305228   \n",
       "1 -0.361158 -0.539460 -0.833948 -2.200063 -2.349110 -1.999438 -1.949587   \n",
       "2  2.737669 -1.386258  2.404844  1.630132 -1.745532  2.590663 -2.294166   \n",
       "3  0.409859  0.471293  1.295058  0.565028  0.542491  0.296564  0.611917   \n",
       "4 -2.429939 -1.636572 -2.089618 -1.714345 -2.080352 -2.257138 -1.139748   \n",
       "\n",
       "       7         8         9     ...       9990      9991      9992      9993  \\\n",
       "0  0.550740  0.823849  0.361629  ...  22.549061  0.467982  4.432257  0.487591   \n",
       "1 -1.799677 -2.409386 -1.561485  ...  -0.525972 -1.993226 -2.325274 -2.307305   \n",
       "2 -3.037725  0.120901  2.277365  ...  -2.083035 -0.242534 -2.555464 -0.740001   \n",
       "3  0.497987  0.392440  1.756224  ...   6.464812  0.439723  0.326687  2.520947   \n",
       "4 -2.165318 -1.953236 -0.967060  ...  -0.523991 -1.169341 -0.661042 -2.320902   \n",
       "\n",
       "       9994      9995      9996      9997      9998      9999  \n",
       "0  1.198400  0.256487  0.319303  0.552500  0.338862  0.626047  \n",
       "1 -2.155422 -1.719700 -0.770895 -0.881639 -0.868035 -1.238908  \n",
       "2 -1.551230 -0.833353  3.106929  2.820565  2.984343  0.505947  \n",
       "3  0.437137  0.874030  0.395848  0.437082  0.661918  0.414505  \n",
       "4 -2.142012 -1.453976 -0.760495 -2.356772 -0.647047 -0.594919  \n",
       "\n",
       "[5 rows x 10000 columns]"
      ]
     },
     "execution_count": 128,
     "metadata": {},
     "output_type": "execute_result"
    }
   ],
   "source": [
    "events_combined.shape\n",
    "events_combined.head()"
   ]
  },
  {
   "cell_type": "code",
   "execution_count": 19,
   "metadata": {},
   "outputs": [
    {
     "name": "stderr",
     "output_type": "stream",
     "text": [
      "100%|██████████| 10000/10000 [00:45<00:00, 217.54it/s]\n",
      "100%|██████████| 10000/10000 [00:03<00:00, 2983.84it/s]\n"
     ]
    }
   ],
   "source": [
    "leadpT = {}\n",
    "leadeta = {}\n",
    "leadphi = {}\n",
    "leadmass = {}\n",
    "\n",
    "subleadpT = {}\n",
    "subleadeta = {}\n",
    "subleadphi = {}\n",
    "subleadmass = {}\n",
    "\n",
    "alljets = {}\n",
    "N = size # number of events\n",
    "\n",
    "for mytype in ['background','signal']:\n",
    "    leadpT[mytype]=[]\n",
    "    leadeta[mytype]=[]\n",
    "    leadphi[mytype]=[]\n",
    "    leadmass[mytype]=[]\n",
    "    \n",
    "    subleadpT[mytype]=[]\n",
    "    subleadeta[mytype]=[]\n",
    "    subleadphi[mytype]=[]\n",
    "    subleadmass[mytype]=[]\n",
    "    \n",
    "    alljets[mytype]=[]\n",
    "\n",
    "    for i in tqdm(range(N)):\n",
    "        issignal = events_combined[i][2100] # signal flag\n",
    "        if (mytype=='background' and issignal):\n",
    "            continue\n",
    "        elif (mytype=='signal' and issignal==0):\n",
    "             continue\n",
    "        pseudojets_input = np.zeros(len([x for x in events_combined[i][::3] if x > 0]), dtype=DTYPE_PTEPM) # nontrivial particles in event i\n",
    "        for j in range(700):\n",
    "            if (events_combined[i][j*3]>0):\n",
    "                pseudojets_input[j]['pT'] = events_combined[i][j*3]\n",
    "                pseudojets_input[j]['eta'] = events_combined[i][j*3+1]\n",
    "                pseudojets_input[j]['phi'] = events_combined[i][j*3+2]\n",
    "            else:\n",
    "                break\n",
    "\n",
    "        sequence = cluster(pseudojets_input, R=1.0, p=-1) # jet_algos: -1 = anti-kt, 1 = kt, 0 = cambridge-aachen\n",
    "        jets = sequence.inclusive_jets(ptmin=1200)\n",
    "        \n",
    "        if len(jets) > 1:\n",
    "            leadpT[mytype] += [jets[0].pt]\n",
    "            leadeta[mytype] += [jets[0].eta]\n",
    "            leadphi[mytype] += [jets[0].phi]\n",
    "            leadmass[mytype] += [jets[0].mass]\n",
    "            subleadpT[mytype] += [jets[1].pt]\n",
    "            subleadeta[mytype] += [jets[1].eta]\n",
    "            subleadphi[mytype] += [jets[1].phi]\n",
    "            subleadmass[mytype] += [jets[1].mass]\n",
    "            alljets[mytype] += [jets]\n",
    "        pass"
   ]
  },
  {
   "cell_type": "code",
   "execution_count": 20,
   "metadata": {},
   "outputs": [],
   "source": [
    "bg_lead = np.array([leadpT['background'],leadeta['background'],leadphi['background'],leadmass['background']])\n",
    "bg_sublead = np.array([subleadpT['background'],subleadeta['background'],subleadphi['background'],subleadmass['background']])\n",
    "signal_lead = np.array([leadpT['signal'],leadeta['signal'],leadphi['signal'],leadmass['signal']])\n",
    "signal_sublead = np.array([subleadpT['signal'],subleadeta['signal'],subleadphi['signal'],subleadmass['signal']])\n"
   ]
  },
  {
   "cell_type": "code",
   "execution_count": null,
   "metadata": {},
   "outputs": [],
   "source": []
  },
  {
   "cell_type": "code",
   "execution_count": 21,
   "metadata": {},
   "outputs": [
    {
     "name": "stdout",
     "output_type": "stream",
     "text": [
      "(4, 5647)\n",
      "(4, 5647)\n",
      "(4, 818)\n",
      "(4, 818)\n"
     ]
    }
   ],
   "source": [
    "print(bg_lead.shape)\n",
    "print(bg_sublead.shape)\n",
    "print(signal_lead.shape)\n",
    "print(signal_sublead.shape)"
   ]
  },
  {
   "cell_type": "code",
   "execution_count": 148,
   "metadata": {},
   "outputs": [],
   "source": [
    "pt1 = signal_lead[0,:]\n",
    "pt2 = signal_sublead[0,:]\n",
    "eta1 = signal_lead[1,:]\n",
    "eta2 = signal_sublead[1,:]\n",
    "phi1 = signal_lead[2,:]\n",
    "phi2 = signal_sublead[2,:]\n",
    "m1 = signal_lead[3,:]\n",
    "m2 = signal_sublead[3,:]"
   ]
  },
  {
   "cell_type": "code",
   "execution_count": 174,
   "metadata": {},
   "outputs": [
    {
     "data": {
      "image/png": "[encoded data removed]",
      "text/plain": [
       "<Figure size 432x288 with 1 Axes>"
      ]
     },
     "metadata": {
      "needs_background": "light"
     },
     "output_type": "display_data"
    },
    {
     "data": {
      "image/png": "[encoded data removed]",
      "text/plain": [
       "<Figure size 432x288 with 1 Axes>"
      ]
     },
     "metadata": {
      "needs_background": "light"
     },
     "output_type": "display_data"
    },
    {
     "data": {
      "image/png": "[encoded data removed]",
      "text/plain": [
       "<Figure size 432x288 with 1 Axes>"
      ]
     },
     "metadata": {
      "needs_background": "light"
     },
     "output_type": "display_data"
    },
    {
     "data": {
      "image/png": "[encoded data removed]",
      "text/plain": [
       "<Figure size 432x288 with 1 Axes>"
      ]
     },
     "metadata": {
      "needs_background": "light"
     },
     "output_type": "display_data"
    }
   ],
   "source": [
    "features = ['pt','eta','phi','m']\n",
    "for i in range(len(features)):\n",
    "    plt.hist(signal_lead[i,:]+signal_sublead[i,:], alpha = 0.5, label = \"signal\", density = True)\n",
    "    plt.hist(bg_lead[i,:] + bg_sublead[i,:], alpha = 0.5, label = \"background\", density = True)\n",
    "    plt.title(features[i])\n",
    "    plt.legend()\n",
    "    plt.show()"
   ]
  },
  {
   "cell_type": "code",
   "execution_count": 27,
   "metadata": {},
   "outputs": [],
   "source": [
    "E1 = np.sqrt(m1**2 + (pt1**2) * (np.cosh(eta1)**2))\n",
    "E2 = np.sqrt(m2**2 + (pt2**2) * (np.cosh(eta2)**2))"
   ]
  },
  {
   "cell_type": "code",
   "execution_count": 131,
   "metadata": {},
   "outputs": [],
   "source": [
    "def plot2hist(data1,data2,title,bins = 20):\n",
    "    fig,(ax1,ax2) = plt.subplots(1,2)\n",
    "    fig.set_size_inches(12,6)\n",
    "    ax1.set_title(title)\n",
    "    ax1.hist(data1, bins,alpha = 0.5, label = \"leading_jet \" + title)\n",
    "    ax1.hist(data2,bins, alpha = 0.5, label = \"subjet \" + title)\n",
    "    ax1.legend()\n",
    "    ax2.set_title(title + \" of leading vs. subleading jet\")\n",
    "    ax2.set_xlabel(\"Leading jet \" + title)\n",
    "    ax2.set_ylabel(\"Subleading jet\" + title)\n",
    "    ax2.hist2d(data1, data2, bins, cmap=\"BuPu\")\n",
    "    plt.show()"
   ]
  },
  {
   "cell_type": "code",
   "execution_count": 162,
   "metadata": {
    "scrolled": false
   },
   "outputs": [
    {
     "data": {
      "image/png": "[encoded data removed]",
      "text/plain": [
       "<Figure size 864x432 with 2 Axes>"
      ]
     },
     "metadata": {
      "needs_background": "light"
     },
     "output_type": "display_data"
    },
    {
     "data": {
      "image/png": "[encoded data removed]",
      "text/plain": [
       "<Figure size 864x432 with 2 Axes>"
      ]
     },
     "metadata": {
      "needs_background": "light"
     },
     "output_type": "display_data"
    }
   ],
   "source": [
    "plot2hist(m1,m2,\"mass\")\n",
    "plot2hist(E1,E2,\"energy\")"
   ]
  },
  {
   "cell_type": "code",
   "execution_count": null,
   "metadata": {},
   "outputs": [],
   "source": []
  }
 ],
 "metadata": {
  "kernelspec": {
   "display_name": "Python [conda env:tensorflow] *",
   "language": "python",
   "name": "conda-env-tensorflow-py"
  },
  "language_info": {
   "codemirror_mode": {
    "name": "ipython",
    "version": 3
   },
   "file_extension": ".py",
   "mimetype": "text/x-python",
   "name": "python",
   "nbconvert_exporter": "python",
   "pygments_lexer": "ipython3",
   "version": "3.7.9"
  }
 },
 "nbformat": 4,
 "nbformat_minor": 4
}
