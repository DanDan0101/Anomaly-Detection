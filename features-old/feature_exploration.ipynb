{
 "metadata": {
  "language_info": {
   "codemirror_mode": {
    "name": "ipython",
    "version": 3
   },
   "file_extension": ".py",
   "mimetype": "text/x-python",
   "name": "python",
   "nbconvert_exporter": "python",
   "pygments_lexer": "ipython3",
   "version": "3.6.10-final"
  },
  "orig_nbformat": 2,
  "kernelspec": {
   "name": "python3",
   "display_name": "Python 3"
  }
 },
 "nbformat": 4,
 "nbformat_minor": 2,
 "cells": [
  {
   "cell_type": "code",
   "execution_count": 5,
   "metadata": {},
   "outputs": [],
   "source": [
    "import numpy as np\n",
    "import matplotlib.pyplot as plt\n",
    "import pandas"
   ]
  },
  {
   "cell_type": "code",
   "execution_count": 6,
   "metadata": {},
   "outputs": [],
   "source": [
    "# path to file\n",
    "fn = 'events_anomalydetection'"
   ]
  },
  {
   "cell_type": "code",
   "execution_count": 7,
   "metadata": {},
   "outputs": [
    {
     "output_type": "stream",
     "name": "stdout",
     "text": [
      "(100000, 2101)\nMemory in GB: 1.5661120414733887\n"
     ]
    }
   ],
   "source": [
    "# Only load the first couple events for feature exploration\n",
    "df = pandas.read_hdf('data/' + fn + '.h5',stop=100000)\n",
    "print(df.shape)\n",
    "print(\"Memory in GB:\",sum(df.memory_usage(deep=True)) / (1024**3))"
   ]
  },
  {
   "source": [
    "Each row is a single W' event, consisting of up to 700 (pT, eta, phi) for massless constituent particles. The rows are 0-padded."
   ],
   "cell_type": "markdown",
   "metadata": {}
  },
  {
   "cell_type": "code",
   "execution_count": 8,
   "metadata": {},
   "outputs": [
    {
     "output_type": "execute_result",
     "data": {
      "text/plain": [
       "           0         1         2         3         4         5         6     \\\n",
       "0      0.324101 -0.361158  2.737669  0.409859 -2.429939  0.729830  0.867922   \n",
       "1      0.646304 -0.539460 -1.386258  0.471293 -1.636572  0.751657  0.453769   \n",
       "2      0.325172 -0.833948  2.404844  1.295058 -2.089618 -1.873342  0.451272   \n",
       "3      0.290918 -2.200063  1.630132  0.565028 -1.714345 -2.617103  0.951042   \n",
       "4      0.526330 -2.349110 -1.745532  0.542491 -2.080352 -3.044045  0.390727   \n",
       "...         ...       ...       ...       ...       ...       ...       ...   \n",
       "99995  0.341075 -1.385744  3.078161  0.960960 -2.311746  0.865321  2.637374   \n",
       "99996  1.145756 -2.400877  1.574066  0.634326 -2.420003  1.585094  0.296981   \n",
       "99997  1.392769 -2.377348  3.128854  1.221582 -2.480863 -0.170992  0.357015   \n",
       "99998  3.018063 -0.307674 -1.690269  4.679723 -0.330029 -1.721692  2.858347   \n",
       "99999  0.378317 -1.198066 -1.287687  0.344319 -0.456019 -0.419982  0.460403   \n",
       "\n",
       "           7         8         9     ...  2091  2092  2093  2094  2095  2096  \\\n",
       "0     -2.267777 -1.161310  0.383031  ...   0.0   0.0   0.0   0.0   0.0   0.0   \n",
       "1     -1.099593 -0.393405  0.485929  ...   0.0   0.0   0.0   0.0   0.0   0.0   \n",
       "2     -0.101877  2.217348  0.461293  ...   0.0   0.0   0.0   0.0   0.0   0.0   \n",
       "3     -0.532720  2.941473  0.896248  ...   0.0   0.0   0.0   0.0   0.0   0.0   \n",
       "4     -1.278563 -2.131058  2.530358  ...   0.0   0.0   0.0   0.0   0.0   0.0   \n",
       "...         ...       ...       ...  ...   ...   ...   ...   ...   ...   ...   \n",
       "99995 -2.111892 -2.085768  6.572156  ...   0.0   0.0   0.0   0.0   0.0   0.0   \n",
       "99996 -0.885885  0.582134  1.318117  ...   0.0   0.0   0.0   0.0   0.0   0.0   \n",
       "99997 -2.300026  2.560061  0.483385  ...   0.0   0.0   0.0   0.0   0.0   0.0   \n",
       "99998 -0.200167 -1.650111  3.367539  ...   0.0   0.0   0.0   0.0   0.0   0.0   \n",
       "99999 -1.169442  2.187416  0.789089  ...   0.0   0.0   0.0   0.0   0.0   0.0   \n",
       "\n",
       "       2097  2098  2099  2100  \n",
       "0       0.0   0.0   0.0   0.0  \n",
       "1       0.0   0.0   0.0   0.0  \n",
       "2       0.0   0.0   0.0   0.0  \n",
       "3       0.0   0.0   0.0   0.0  \n",
       "4       0.0   0.0   0.0   1.0  \n",
       "...     ...   ...   ...   ...  \n",
       "99995   0.0   0.0   0.0   0.0  \n",
       "99996   0.0   0.0   0.0   0.0  \n",
       "99997   0.0   0.0   0.0   0.0  \n",
       "99998   0.0   0.0   0.0   0.0  \n",
       "99999   0.0   0.0   0.0   0.0  \n",
       "\n",
       "[100000 rows x 2101 columns]"
      ],
      "text/html": "<div>\n<style scoped>\n    .dataframe tbody tr th:only-of-type {\n        vertical-align: middle;\n    }\n\n    .dataframe tbody tr th {\n        vertical-align: top;\n    }\n\n    .dataframe thead th {\n        text-align: right;\n    }\n</style>\n<table border=\"1\" class=\"dataframe\">\n  <thead>\n    <tr style=\"text-align: right;\">\n      <th></th>\n      <th>0</th>\n      <th>1</th>\n      <th>2</th>\n      <th>3</th>\n      <th>4</th>\n      <th>5</th>\n      <th>6</th>\n      <th>7</th>\n      <th>8</th>\n      <th>9</th>\n      <th>...</th>\n      <th>2091</th>\n      <th>2092</th>\n      <th>2093</th>\n      <th>2094</th>\n      <th>2095</th>\n      <th>2096</th>\n      <th>2097</th>\n      <th>2098</th>\n      <th>2099</th>\n      <th>2100</th>\n    </tr>\n  </thead>\n  <tbody>\n    <tr>\n      <th>0</th>\n      <td>0.324101</td>\n      <td>-0.361158</td>\n      <td>2.737669</td>\n      <td>0.409859</td>\n      <td>-2.429939</td>\n      <td>0.729830</td>\n      <td>0.867922</td>\n      <td>-2.267777</td>\n      <td>-1.161310</td>\n      <td>0.383031</td>\n      <td>...</td>\n      <td>0.0</td>\n      <td>0.0</td>\n      <td>0.0</td>\n      <td>0.0</td>\n      <td>0.0</td>\n      <td>0.0</td>\n      <td>0.0</td>\n      <td>0.0</td>\n      <td>0.0</td>\n      <td>0.0</td>\n    </tr>\n    <tr>\n      <th>1</th>\n      <td>0.646304</td>\n      <td>-0.539460</td>\n      <td>-1.386258</td>\n      <td>0.471293</td>\n      <td>-1.636572</td>\n      <td>0.751657</td>\n      <td>0.453769</td>\n      <td>-1.099593</td>\n      <td>-0.393405</td>\n      <td>0.485929</td>\n      <td>...</td>\n      <td>0.0</td>\n      <td>0.0</td>\n      <td>0.0</td>\n      <td>0.0</td>\n      <td>0.0</td>\n      <td>0.0</td>\n      <td>0.0</td>\n      <td>0.0</td>\n      <td>0.0</td>\n      <td>0.0</td>\n    </tr>\n    <tr>\n      <th>2</th>\n      <td>0.325172</td>\n      <td>-0.833948</td>\n      <td>2.404844</td>\n      <td>1.295058</td>\n      <td>-2.089618</td>\n      <td>-1.873342</td>\n      <td>0.451272</td>\n      <td>-0.101877</td>\n      <td>2.217348</td>\n      <td>0.461293</td>\n      <td>...</td>\n      <td>0.0</td>\n      <td>0.0</td>\n      <td>0.0</td>\n      <td>0.0</td>\n      <td>0.0</td>\n      <td>0.0</td>\n      <td>0.0</td>\n      <td>0.0</td>\n      <td>0.0</td>\n      <td>0.0</td>\n    </tr>\n    <tr>\n      <th>3</th>\n      <td>0.290918</td>\n      <td>-2.200063</td>\n      <td>1.630132</td>\n      <td>0.565028</td>\n      <td>-1.714345</td>\n      <td>-2.617103</td>\n      <td>0.951042</td>\n      <td>-0.532720</td>\n      <td>2.941473</td>\n      <td>0.896248</td>\n      <td>...</td>\n      <td>0.0</td>\n      <td>0.0</td>\n      <td>0.0</td>\n      <td>0.0</td>\n      <td>0.0</td>\n      <td>0.0</td>\n      <td>0.0</td>\n      <td>0.0</td>\n      <td>0.0</td>\n      <td>0.0</td>\n    </tr>\n    <tr>\n      <th>4</th>\n      <td>0.526330</td>\n      <td>-2.349110</td>\n      <td>-1.745532</td>\n      <td>0.542491</td>\n      <td>-2.080352</td>\n      <td>-3.044045</td>\n      <td>0.390727</td>\n      <td>-1.278563</td>\n      <td>-2.131058</td>\n      <td>2.530358</td>\n      <td>...</td>\n      <td>0.0</td>\n      <td>0.0</td>\n      <td>0.0</td>\n      <td>0.0</td>\n      <td>0.0</td>\n      <td>0.0</td>\n      <td>0.0</td>\n      <td>0.0</td>\n      <td>0.0</td>\n      <td>1.0</td>\n    </tr>\n    <tr>\n      <th>...</th>\n      <td>...</td>\n      <td>...</td>\n      <td>...</td>\n      <td>...</td>\n      <td>...</td>\n      <td>...</td>\n      <td>...</td>\n      <td>...</td>\n      <td>...</td>\n      <td>...</td>\n      <td>...</td>\n      <td>...</td>\n      <td>...</td>\n      <td>...</td>\n      <td>...</td>\n      <td>...</td>\n      <td>...</td>\n      <td>...</td>\n      <td>...</td>\n      <td>...</td>\n      <td>...</td>\n    </tr>\n    <tr>\n      <th>99995</th>\n      <td>0.341075</td>\n      <td>-1.385744</td>\n      <td>3.078161</td>\n      <td>0.960960</td>\n      <td>-2.311746</td>\n      <td>0.865321</td>\n      <td>2.637374</td>\n      <td>-2.111892</td>\n      <td>-2.085768</td>\n      <td>6.572156</td>\n      <td>...</td>\n      <td>0.0</td>\n      <td>0.0</td>\n      <td>0.0</td>\n      <td>0.0</td>\n      <td>0.0</td>\n      <td>0.0</td>\n      <td>0.0</td>\n      <td>0.0</td>\n      <td>0.0</td>\n      <td>0.0</td>\n    </tr>\n    <tr>\n      <th>99996</th>\n      <td>1.145756</td>\n      <td>-2.400877</td>\n      <td>1.574066</td>\n      <td>0.634326</td>\n      <td>-2.420003</td>\n      <td>1.585094</td>\n      <td>0.296981</td>\n      <td>-0.885885</td>\n      <td>0.582134</td>\n      <td>1.318117</td>\n      <td>...</td>\n      <td>0.0</td>\n      <td>0.0</td>\n      <td>0.0</td>\n      <td>0.0</td>\n      <td>0.0</td>\n      <td>0.0</td>\n      <td>0.0</td>\n      <td>0.0</td>\n      <td>0.0</td>\n      <td>0.0</td>\n    </tr>\n    <tr>\n      <th>99997</th>\n      <td>1.392769</td>\n      <td>-2.377348</td>\n      <td>3.128854</td>\n      <td>1.221582</td>\n      <td>-2.480863</td>\n      <td>-0.170992</td>\n      <td>0.357015</td>\n      <td>-2.300026</td>\n      <td>2.560061</td>\n      <td>0.483385</td>\n      <td>...</td>\n      <td>0.0</td>\n      <td>0.0</td>\n      <td>0.0</td>\n      <td>0.0</td>\n      <td>0.0</td>\n      <td>0.0</td>\n      <td>0.0</td>\n      <td>0.0</td>\n      <td>0.0</td>\n      <td>0.0</td>\n    </tr>\n    <tr>\n      <th>99998</th>\n      <td>3.018063</td>\n      <td>-0.307674</td>\n      <td>-1.690269</td>\n      <td>4.679723</td>\n      <td>-0.330029</td>\n      <td>-1.721692</td>\n      <td>2.858347</td>\n      <td>-0.200167</td>\n      <td>-1.650111</td>\n      <td>3.367539</td>\n      <td>...</td>\n      <td>0.0</td>\n      <td>0.0</td>\n      <td>0.0</td>\n      <td>0.0</td>\n      <td>0.0</td>\n      <td>0.0</td>\n      <td>0.0</td>\n      <td>0.0</td>\n      <td>0.0</td>\n      <td>0.0</td>\n    </tr>\n    <tr>\n      <th>99999</th>\n      <td>0.378317</td>\n      <td>-1.198066</td>\n      <td>-1.287687</td>\n      <td>0.344319</td>\n      <td>-0.456019</td>\n      <td>-0.419982</td>\n      <td>0.460403</td>\n      <td>-1.169442</td>\n      <td>2.187416</td>\n      <td>0.789089</td>\n      <td>...</td>\n      <td>0.0</td>\n      <td>0.0</td>\n      <td>0.0</td>\n      <td>0.0</td>\n      <td>0.0</td>\n      <td>0.0</td>\n      <td>0.0</td>\n      <td>0.0</td>\n      <td>0.0</td>\n      <td>0.0</td>\n    </tr>\n  </tbody>\n</table>\n<p>100000 rows × 2101 columns</p>\n</div>"
     },
     "metadata": {},
     "execution_count": 8
    }
   ],
   "source": [
    "df"
   ]
  },
  {
   "cell_type": "code",
   "execution_count": 15,
   "metadata": {},
   "outputs": [],
   "source": [
    "# Separate background and signal; discard flag column\n",
    "df_bg = df[df[2100] == 0.0].iloc[:,:-1]\n",
    "df_s = df[df[2100] == 1.0].iloc[:,:-1]\n",
    "df = df.iloc[:,:-1]"
   ]
  },
  {
   "cell_type": "code",
   "execution_count": 16,
   "metadata": {},
   "outputs": [
    {
     "output_type": "stream",
     "name": "stdout",
     "text": [
      "Background shape: (90941, 2100)\nSignal shape: (9059, 2100)\nPercent of signal in data: 9.059000000000001%\n"
     ]
    }
   ],
   "source": [
    "print(\"Background shape: \" + str(df_bg.shape))\n",
    "print(\"Signal shape: \" + str(df_s.shape))\n",
    "print(\"Percent of signal in data: \" + str(df_s.shape[0] / df.shape[0] * 100) + \"%\")"
   ]
  },
  {
   "cell_type": "code",
   "execution_count": 17,
   "metadata": {},
   "outputs": [],
   "source": [
    "# Isolate pT, eta, and phi\n",
    "\n",
    "df_pt = df.iloc[:,::3].to_numpy()\n",
    "df_eta = df.iloc[:,1::3].to_numpy()\n",
    "df_phi = df.iloc[:,2::3].to_numpy()\n",
    "\n",
    "df_bg_pt = df_bg.iloc[:,::3].to_numpy()\n",
    "df_bg_eta = df_bg.iloc[:,1::3].to_numpy()\n",
    "df_bg_phi = df_bg.iloc[:,2::3].to_numpy()\n",
    "\n",
    "df_s_pt = df_s.iloc[:,::3].to_numpy()\n",
    "df_s_eta = df_s.iloc[:,1::3].to_numpy()\n",
    "df_s_phi = df_s.iloc[:,2::3].to_numpy()"
   ]
  },
  {
   "cell_type": "code",
   "execution_count": 18,
   "metadata": {},
   "outputs": [],
   "source": [
    "# Compute constitutent cartesian four-momenta\n",
    "\n",
    "df_px = df_pt * np.cos(df_phi)\n",
    "df_py = df_pt * np.sin(df_phi)\n",
    "df_pz = df_pt * np.sinh(df_eta)\n",
    "df_E = np.sqrt(df_px**2 + df_py**2 + df_pz**2)\n",
    "\n",
    "df_bg_px = df_bg_pt * np.cos(df_bg_phi)\n",
    "df_bg_py = df_bg_pt * np.sin(df_bg_phi)\n",
    "df_bg_pz = df_bg_pt * np.sinh(df_bg_eta)\n",
    "df_bg_E = np.sqrt(df_bg_px**2 + df_bg_py**2 + df_bg_pz**2)\n",
    "\n",
    "df_s_px = df_s_pt * np.cos(df_s_phi)\n",
    "df_s_py = df_s_pt * np.sin(df_s_phi)\n",
    "df_s_pz = df_s_pt * np.sinh(df_s_eta)\n",
    "df_s_E = np.sqrt(df_s_px**2 + df_s_py**2 + df_s_pz**2)"
   ]
  },
  {
   "cell_type": "code",
   "execution_count": 19,
   "metadata": {},
   "outputs": [],
   "source": [
    "# Compute total event cartesian four-momenta and mass by summing constituent four-momenta\n",
    "\n",
    "j_px = df_px.sum(axis = 1)\n",
    "j_py = df_py.sum(axis = 1)\n",
    "j_pz = df_pz.sum(axis = 1)\n",
    "j_E = df_E.sum(axis = 1)\n",
    "j_p = np.sqrt(j_px**2 + j_py**2 + j_pz**2)\n",
    "j_m = np.sqrt(j_E**2 - j_p**2)\n",
    "\n",
    "j_bg_px = df_bg_px.sum(axis = 1)\n",
    "j_bg_py = df_bg_py.sum(axis = 1)\n",
    "j_bg_pz = df_bg_pz.sum(axis = 1)\n",
    "j_bg_E = df_bg_E.sum(axis = 1)\n",
    "j_bg_p = np.sqrt(j_bg_px**2 + j_bg_py**2 + j_bg_pz**2)\n",
    "j_bg_m = np.sqrt(j_bg_E**2 - j_bg_p**2)\n",
    "\n",
    "j_s_px = df_s_px.sum(axis = 1)\n",
    "j_s_py = df_s_py.sum(axis = 1)\n",
    "j_s_pz = df_s_pz.sum(axis = 1)\n",
    "j_s_E = df_s_E.sum(axis = 1)\n",
    "j_s_p = np.sqrt(j_s_px**2 + j_s_py**2 + j_s_pz**2)\n",
    "j_s_m = np.sqrt(j_s_E**2 - j_s_p**2)"
   ]
  },
  {
   "cell_type": "code",
   "execution_count": 20,
   "metadata": {},
   "outputs": [],
   "source": [
    "# Compute total event pT, eta, and phi\n",
    "\n",
    "j_pt = np.sqrt(j_px ** 2 + j_py ** 2)\n",
    "j_phi = np.arctan2(j_py, j_px)\n",
    "j_eta = np.arcsinh(j_pz / j_pt)\n",
    "\n",
    "j_bg_pt = np.sqrt(j_bg_px ** 2 + j_bg_py ** 2)\n",
    "j_bg_phi = np.arctan2(j_bg_py, j_bg_px)\n",
    "j_bg_eta = np.arcsinh(j_bg_pz / j_bg_pt)\n",
    "\n",
    "j_s_pt = np.sqrt(j_s_px ** 2 + j_s_py ** 2)\n",
    "j_s_phi = np.arctan2(j_s_py, j_s_px)\n",
    "j_s_eta = np.arcsinh(j_s_pz / j_s_pt)"
   ]
  },
  {
   "cell_type": "code",
   "execution_count": 21,
   "metadata": {},
   "outputs": [],
   "source": [
    "def makeplot(main, bg, s, title, xaxis, r = None):\n",
    "    bg = bg.flatten()\n",
    "    bg = bg[bg != 0]\n",
    "\n",
    "    s = s.flatten()\n",
    "    s = s[s != 0]\n",
    "\n",
    "    plt.title(title)\n",
    "    plt.xlabel(xaxis)\n",
    "    plt.ylabel(\"Prob. Density (a.u.)\")\n",
    "\n",
    "    bins = np.histogram_bin_edges(main, bins = 'auto')\n",
    "\n",
    "    if r is None:\n",
    "        r = (main.min(), main.max())\n",
    "\n",
    "    plt.hist(bg, bins = len(bins) - 1, range = r, histtype = \"step\", color = \"tab:green\", label = \"background\", density = True)\n",
    "    plt.hist(s, bins = len(bins) - 1, range = r, histtype = \"step\", color = \"tab:red\", label = \"signal\", density = True)\n",
    "    plt.legend()\n",
    "    plt.savefig(\"features/\" + fn + \"/\" + title + \".png\", transparent = True)\n",
    "    plt.show()\n",
    "    plt.clf()"
   ]
  },
  {
   "cell_type": "code",
   "execution_count": null,
   "metadata": {},
   "outputs": [],
   "source": [
    "makeplot(df_pt, df_bg_pt, df_s_pt, \"Constituent transverse momentum\", \"j1_pt\")\n",
    "makeplot(df_eta, df_bg_eta, df_s_eta, \"Constituent pseudorapidity\", \"j1_eta\")\n",
    "makeplot(df_phi, df_bg_phi, df_s_phi, \"Constituent azimuthal angle\", \"j1_phi\")\n",
    "\n",
    "makeplot(j_pt, j_bg_pt, j_s_pt, \"W' transverse momentum\", \"j_pt\")\n",
    "makeplot(j_eta, j_bg_eta, j_s_eta, \"W' pseudorapidity\", \"j_eta\")\n",
    "makeplot(j_phi, j_bg_phi, j_s_phi, \"W' azimuthal angle\", \"j_phi\")\n",
    "\n",
    "makeplot(j_E, j_bg_E, j_s_E, \"W' energy\", \"j_E\")\n",
    "makeplot(j_p, j_bg_p, j_s_p, \"W' linear momentum\", \"j_p\")\n",
    "makeplot(j_m, j_bg_m, j_s_m, \"W' mass\", \"j_m\")"
   ]
  },
  {
   "cell_type": "code",
   "execution_count": null,
   "metadata": {},
   "outputs": [],
   "source": []
  }
 ]
}